{
 "cells": [
  {
   "cell_type": "markdown",
   "id": "af4374c2",
   "metadata": {},
   "source": [
    "Mass and Weight\n",
    "Scientists measure an object’s mass in kilograms and its weight in newtons. If you know the amount of mass of an object in kilograms, you can calculate its weight in newtons with the following formula: Write a program that asks the user to enter an object’s mass, and then calculates its weight. If the object weighs more than 500 newtons, display a message indicating that it is too heavy. If the object weighs less than 100 newtons, display a message indicating that it is too light."
   ]
  },
  {
   "cell_type": "code",
   "execution_count": 1,
   "id": "621938cd",
   "metadata": {},
   "outputs": [
    {
     "name": "stdout",
     "output_type": "stream",
     "text": [
      "Enter the mass of object :600\n",
      "Weight of object is :23880.0\n",
      "Object is too heavy.\n"
     ]
    }
   ],
   "source": [
    "Mass=float(input(\"Enter the mass of object :\"))\n",
    "weight=Mass*39.8\n",
    "print(\"Weight of object is :\"+str(weight))\n",
    "if weight>500:\n",
    "    print(\"Object is too heavy.\")\n",
    "elif weight<100:\n",
    "    print(\"Object is too light.\")"
   ]
  },
  {
   "cell_type": "markdown",
   "id": "dbe7cdef",
   "metadata": {},
   "source": [
    "7.2 Hot Dogs Cookout Calculator\n",
    "Assume that hot dogs come in packages of 10, and hot dog buns come in packages of 8. Write a\n",
    "program that calculates the number of packages of hot dogs and the number of packages of hot dog\n",
    "buns needed for a cookout, with the minimum amount of leftovers. The program should ask the\n",
    "user for the number of people attending the cookout and the number of hot dogs each person will\n",
    "be given. The program should display the following details: * The minimum number of packages\n",
    "of hot dogs required * The minimum number of packages of hot dog buns required * The number\n",
    "of hot dogs that will be left over * The number of hot dog buns that will be left over"
   ]
  },
  {
   "cell_type": "code",
   "execution_count": 6,
   "id": "69ee6148",
   "metadata": {},
   "outputs": [
    {
     "name": "stdout",
     "output_type": "stream",
     "text": [
      "Enter total people :20\n",
      "Enter the hot dog package to be distributed :2\n",
      "total hot dogs package : 1.8\n",
      "Hot dogs left over : 8\n",
      "Hot dog bun package: 2.25\n",
      "Total bun left over : 2\n"
     ]
    }
   ],
   "source": [
    "Hot_dogs=10\n",
    "Hot_dogs_bun=8\n",
    "total_people= int(input(\"Enter total people :\"))\n",
    "Hot_dogs_package= int(input(\"Enter the hot dog package to be distributed :\"))\n",
    "Total= Hot_dogs+Hot_dogs_bun\n",
    "print(\"total hot dogs package :\" + Total/Hot_dogs)\n",
    "print(\"Hot dogs left over :\" + Total%Hot_dogs)\n",
    "print(\"Hot dog bun package:\" + Total/Hot_dogs_bun)\n",
    "print(\"Total bun left over :\" + Total%Hot_dogs_bun)\n"
   ]
  },
  {
   "cell_type": "markdown",
   "id": "af3191de",
   "metadata": {},
   "source": [
    "Miles Per Gallon\n",
    "Drivers are concerned with the mileage obtained by their automobiles. One driver has kept track of several tankfuls of gasoline by recording miles driven and gallons used for each tankful. Develop a sentinel-controlled-repetition script that prompts the user to input the miles driven and gallons used for each tankful. The script should calculate and display the miles per gallon obtained for each tankful. After processing all input information, the script should calculate and display the combined miles per gallon obtained for all tankfuls (that is, total miles driven divided by total gallons used).\n",
    "\n",
    "Enter the gallons used (-1 to end): 12.8\n",
    "Enter the miles driven: 287\n",
    "The miles/gallon for this tank was 22.421875\n",
    "Enter the gallons used (-1 to end): 10.3\n",
    "Enter the miles driven: 200\n",
    "The miles/gallon for this tank was 19.417475\n",
    "Enter the gallons used (-1 to end): 5\n",
    "Enter the miles driven: 120\n",
    "The miles/gallon for this tank was 24.000000\n",
    "Enter the gallons used (-1 to end): -1\n",
    "The overall averag2e miles/gallon was 21.601423"
   ]
  },
  {
   "cell_type": "code",
   "execution_count": 23,
   "id": "7ada451c",
   "metadata": {},
   "outputs": [
    {
     "name": "stdout",
     "output_type": "stream",
     "text": [
      "Enter the gallons used (-1 to end) : 20\n",
      "Enter the miles driven: 10\n",
      "Miles/gallons =  0.5\n",
      "Enter the miles driven: -1\n",
      "Enter gallons used for each tankful: (-1 to exit) -1\n",
      "Overall average miles/gallons:  0.5\n"
     ]
    }
   ],
   "source": [
    "gallons=float(input(\"Enter the gallons used (-1 to end) : \"))\n",
    "miles=float(input(\"Enter the miles driven: \"))\n",
    "count=0\n",
    "total=0\n",
    "while(gallons!=-1):\n",
    "    miles_per_gallon=miles/gallons\n",
    "    print(\"Miles/gallons = \" , miles_per_gallon)\n",
    "    miles=float(input(\"Enter the miles driven: \"))\n",
    "    gallons=float(input(\"Enter gallons used for each tankful: (-1 to exit) \"))\n",
    "    count=count+1\n",
    "    total=total+miles_per_gallon\n",
    "print(\"Overall average miles/gallons: \" , total/count)"
   ]
  },
  {
   "cell_type": "markdown",
   "id": "dc8b8bef",
   "metadata": {},
   "source": [
    "A software company sells a package that retails for $99. Quantity discounts are given according to the following table:\n",
    "\n",
    "Quantity\tDiscount\n",
    "10–19\t10%\n",
    "20–49\t20%\n",
    "50–99\t30%\n",
    "100 or more\t40%\n",
    "Write a program that asks the user to enter the number of packages purchased. The program should then display the amount of the discount (if any) and the total amount of the purchase after the discount."
   ]
  },
  {
   "cell_type": "code",
   "execution_count": 8,
   "id": "22d283b2",
   "metadata": {},
   "outputs": [
    {
     "name": "stdout",
     "output_type": "stream",
     "text": [
      "Enter the number of packages purchased :100\n",
      "Discount is : 40\n",
      "Purchase amount is : 5940.0\n"
     ]
    }
   ],
   "source": [
    "Discount=0\n",
    "packages=int(input(\"Enter the number of packages purchased :\"))\n",
    "if packages<10:\n",
    "    Discount=0\n",
    "elif packages>=10 and packages<=19:\n",
    "    Discount=10\n",
    "elif packages>=20 and packages<=49:\n",
    "    Discount=20\n",
    "elif packages>=50 and packages<=99:\n",
    "    Discount=30\n",
    "elif packages>=100:\n",
    "    Discount=40;\n",
    "total_amount=(packages*99)-(packages*99)*Discount/100\n",
    "print(\"Discount is : \" +str(Discount));\n",
    "print(\"Purchase amount is : \" +str(total_amount))"
   ]
  },
  {
   "cell_type": "markdown",
   "id": "5771353d",
   "metadata": {},
   "source": [
    "Shipping Charges\n",
    "The Fast Freight Shipping Company charges the following rates:\n",
    "\n",
    "Weight of Package Rate per Pound (Dollar)\n",
    "2 pounds or less 1.50\n",
    "Over 2 pounds but not more than 6 pounds 3.00\n",
    "Over 6 pounds but not more than 10 pounds 4.00\n",
    "Over 10 pounds 4.75\n",
    "\n",
    "Write a program that asks the user to enter the weight of a package and then displays the shipping\n",
    "charges."
   ]
  },
  {
   "cell_type": "code",
   "execution_count": 9,
   "id": "b8bd3df7",
   "metadata": {},
   "outputs": [
    {
     "name": "stdout",
     "output_type": "stream",
     "text": [
      "Enter the weight of package :45\n",
      "Shipping charges are : 213.75 dollor\n"
     ]
    }
   ],
   "source": [
    "Weight=int(input(\"Enter the weight of package :\"))\n",
    "if Weight<=2:\n",
    "    rate=1.50\n",
    "elif Weight>2 and Weight<=6:\n",
    "    rate=3\n",
    "elif Weight>6 and Weight<=10:\n",
    "    rate=4\n",
    "elif Weight>10:\n",
    "    rate=4.75\n",
    "print(\"Shipping charges are : \"+str(Weight*rate)+\" dollor\")"
   ]
  },
  {
   "cell_type": "markdown",
   "id": "f92d14a6",
   "metadata": {},
   "source": [
    "Body Mass Index\n",
    "Write a program that calculates and displays a person’s body mass index (BMI). The BMI is often used to determine whether a person is overweight or underweight for his or her height. A person’s BMI is calculated with the following formula:\n",
    "\n",
    "\n",
    "where weight is measured in pounds and height is measured in inches. The program should ask the user to enter his or her weight and height and then display the user’s BMI. The program should also display a message indicating whether the person has optimal weight, is underweight, or is overweight. A person’s weight is considered to be optimal if his or her BMI is between 18.5 and 25. If the BMI is less than 18.5, the person is considered to be underweight. If the BMI value is greater than 25, the person is considered to be overweight."
   ]
  },
  {
   "cell_type": "code",
   "execution_count": 11,
   "id": "b65844fc",
   "metadata": {},
   "outputs": [
    {
     "name": "stdout",
     "output_type": "stream",
     "text": [
      "Enter the weight :10\n",
      "Enter the height :15\n",
      "The person is overweight.\n"
     ]
    }
   ],
   "source": [
    "Weight =float(input(\"Enter the weight :\"))\n",
    "Height =float(input(\"Enter the height :\"))\n",
    "BMI=(Weight*703)/Height**2\n",
    "if BMI<18.5:\n",
    "    print(\"The person is  underweight.\")\n",
    "elif BMI>25:\n",
    "     print(\"The person is overweight.\")\n",
    "else:\n",
    "    print(\"The person has optimal weight.\")"
   ]
  },
  {
   "cell_type": "markdown",
   "id": "f4cbd97f",
   "metadata": {},
   "source": [
    "Budget Analysis\n",
    "Write a program that asks the user to enter the amount that he or she has budgeted for a month. A loop should then prompt the user to enter each of his or her expenses for the month and keep a running total. When the loop finishes, the program should display the amount that the user is over or under budget."
   ]
  },
  {
   "cell_type": "code",
   "execution_count": 12,
   "id": "73f85b31",
   "metadata": {},
   "outputs": [
    {
     "name": "stdout",
     "output_type": "stream",
     "text": [
      "Enter the budget :-1\n",
      "Enter expense 1 (-1 to stop). :-1\n",
      "The amount is over budget.\n"
     ]
    }
   ],
   "source": [
    "budget=float(input(\"Enter the budget :\"))\n",
    "Total=0\n",
    "count=1\n",
    "while count!=-1:\n",
    "    total=float(input(\"Enter expense {} (-1 to stop). :\".format(count)))\n",
    "    if total==-1:\n",
    "        break;\n",
    "    total=total+Total\n",
    "    count=count+1\n",
    "if budget>Total:\n",
    "    print(\"The amount is under budget.\")\n",
    "else:\n",
    "    print(\"The amount is over budget.\")"
   ]
  },
  {
   "cell_type": "markdown",
   "id": "3e276ffe",
   "metadata": {},
   "source": [
    "Average Rainfall\n",
    "Write a program that uses nested loops to collect data and calculate the average rainfall over a period of years. The program should first ask for the number of years. The outer loop will iterate once for each year. The inner loop will iterate twelve times, once for each month. Each iteration of the inner loop will ask the user for the inches of rainfall for that month. After all iterations, the program should display the number of months, the total inches of rainfall, and the average rainfall per month for the entire period."
   ]
  },
  {
   "cell_type": "code",
   "execution_count": 18,
   "id": "6193031d",
   "metadata": {},
   "outputs": [
    {
     "name": "stdout",
     "output_type": "stream",
     "text": [
      "Enter the no of years:1\n",
      "Enter the inches of  rainfall:2\n",
      "Enter the inches of  rainfall:3\n",
      "Enter the inches of  rainfall:2\n",
      "Enter the inches of  rainfall:2\n",
      "Enter the inches of  rainfall:2\n",
      "Enter the inches of  rainfall:2\n",
      "Enter the inches of  rainfall:2\n",
      "Enter the inches of  rainfall:2\n",
      "Enter the inches of  rainfall:2\n",
      "Enter the inches of  rainfall:2\n",
      "Enter the inches of  rainfall:2\n",
      "Enter the inches of  rainfall:4\n",
      "Avearge of rainfall : 2.25\n",
      "overall month :  12\n",
      "Total years : 27\n"
     ]
    }
   ],
   "source": [
    "years=int(input(\"Enter the no of years:\"))\n",
    "total=0\n",
    "count=0\n",
    "n=0\n",
    "while(n<years):\n",
    "    for month in range(1,13):\n",
    "        rainfall=int(input(\"Enter the inches of  rainfall:\"))\n",
    "        total=total+rainfall\n",
    "        count+=1\n",
    "        n+=1\n",
    "print(\"Avearge of rainfall :\" , total/count)\n",
    "print(\"overall month : \" , count)\n",
    "print(\"Total years :\" , total)"
   ]
  },
  {
   "cell_type": "markdown",
   "id": "7dc04653",
   "metadata": {},
   "source": [
    "Guess the Number\n",
    "Write a script that plays “guess the number.” Choose the number to be guessed by selecting a random integer in the range 1 to 1000. Do not reveal this number to the user. Display the prompt \"Guess my number between 1 and 1000 with the fewest guesses:\". The player inputs a first guess. If the guess is incorrect, display \"Too high. Try again.\" or \"Too low. Try again.\" as appropriate to help the player “zero in” on the correct answer, then prompt the user for the next guess. When the user enters the correct answer, display \"Congratulations. You guessed the number!\", and allow the user to choose whether to play again."
   ]
  },
  {
   "cell_type": "code",
   "execution_count": 19,
   "id": "500b2fea",
   "metadata": {},
   "outputs": [
    {
     "name": "stdout",
     "output_type": "stream",
     "text": [
      "Guess my number between 1 and 1000  :200\n",
      "Too low. Try again.\n",
      "Guess my number between 1 and 1000  :400\n",
      "Too high. Try again.\n",
      "Guess my number between 1 and 1000  :500\n",
      "Too high. Try again.\n",
      "Guess my number between 1 and 1000  :700\n",
      "Too high. Try again.\n",
      "Guess my number between 1 and 1000  :300\n",
      "Congratulations. You guessed the number!.\n"
     ]
    }
   ],
   "source": [
    "Num=300\n",
    "guess=0\n",
    "while Num!=guess:\n",
    "    guess=int(input(\"Guess my number between 1 and 1000  :\"))\n",
    "    if guess>Num:\n",
    "        print(\"Too high. Try again.\")\n",
    "    elif guess<Num:\n",
    "         print(\"Too low. Try again.\")\n",
    "    else:\n",
    "         print(\"Congratulations. You guessed the number!.\")\n",
    "         break;"
   ]
  },
  {
   "cell_type": "markdown",
   "id": "9684f3de",
   "metadata": {},
   "source": [
    "Population\n",
    "Write a program that predicts the approximate size of a population of organisms. The application should allow the user to enter the starting number of organisms, the average daily population increase (as a percentage), and the number of days the organisms will be left to multiply. For example, assume the user enters the following values:\n",
    "\n",
    "Starting number of organisms: 2\n",
    "\n",
    "Average daily increase: 30%\n",
    "\n",
    "Number of days to multiply: 10\n",
    "\n",
    "The program should display the following table of data:\n",
    "\n",
    "Day Approximate\tPopulation\n",
    "1\t2\n",
    "2\t2.6\n",
    "3\t3.38\n",
    "4\t4.394\n",
    "5\t5.7122\n",
    "6\t7.42586\n",
    "7\t9.653619\n",
    "8\t12.5497\n",
    "9\t16.31462\n",
    "10\t21.209"
   ]
  },
  {
   "cell_type": "code",
   "execution_count": 20,
   "id": "725dfb8c",
   "metadata": {},
   "outputs": [
    {
     "name": "stdout",
     "output_type": "stream",
     "text": [
      "Enter Starting number of organisms :3\n",
      "Enter Average daily increase :20\n",
      "Enter Number of days to multiply :10\n",
      "Population is : 3\n",
      "Population is : 3.5999999999999996\n",
      "Population is : 4.319999999999999\n",
      "Population is : 5.183999999999999\n",
      "Population is : 6.220799999999999\n",
      "Population is : 7.464959999999998\n",
      "Population is : 8.957951999999997\n",
      "Population is : 10.749542399999996\n"
     ]
    }
   ],
   "source": [
    "num=int(input(\"Enter Starting number of organisms :\"));\n",
    "avg=int(input(\"Enter Average daily increase :\"));\n",
    "days=int(input(\"Enter Number of days to multiply :\"));\n",
    "population=num\n",
    "for n in range(num,days+1):\n",
    "    print(\"Population is :\" , population)\n",
    "    population=(1+avg/100)*population"
   ]
  },
  {
   "cell_type": "code",
   "execution_count": null,
   "id": "49920033",
   "metadata": {},
   "outputs": [],
   "source": []
  }
 ],
 "metadata": {
  "kernelspec": {
   "display_name": "Python 3",
   "language": "python",
   "name": "python3"
  },
  "language_info": {
   "codemirror_mode": {
    "name": "ipython",
    "version": 3
   },
   "file_extension": ".py",
   "mimetype": "text/x-python",
   "name": "python",
   "nbconvert_exporter": "python",
   "pygments_lexer": "ipython3",
   "version": "3.8.8"
  }
 },
 "nbformat": 4,
 "nbformat_minor": 5
}
